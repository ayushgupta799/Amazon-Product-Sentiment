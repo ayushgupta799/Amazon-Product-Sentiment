{
  "nbformat": 4,
  "nbformat_minor": 0,
  "metadata": {
    "colab": {
      "name": "AnalysingProductSentiment",
      "provenance": [],
      "collapsed_sections": [],
      "mount_file_id": "1Dk3wc5QLEs5DS6W_Sfi2dcJWmKuiioCh",
      "authorship_tag": "ABX9TyP/6ctDXVv/AxXxgRObx3YP",
      "include_colab_link": true
    },
    "kernelspec": {
      "name": "python3",
      "display_name": "Python 3"
    }
  },
  "cells": [
    {
      "cell_type": "markdown",
      "metadata": {
        "id": "view-in-github",
        "colab_type": "text"
      },
      "source": [
        "<a href=\"https://colab.research.google.com/github/ayushgupta799/Amazon-Product-Sentiment/blob/main/AnalysingProductSentiment.ipynb\" target=\"_parent\"><img src=\"https://colab.research.google.com/assets/colab-badge.svg\" alt=\"Open In Colab\"/></a>"
      ]
    },
    {
      "cell_type": "code",
      "metadata": {
        "id": "h37rUPZ2im84"
      },
      "source": [
        "pip install -U turicreate"
      ],
      "execution_count": null,
      "outputs": []
    },
    {
      "cell_type": "code",
      "metadata": {
        "id": "yFuc0x8iqqGW"
      },
      "source": [
        "import turicreate"
      ],
      "execution_count": null,
      "outputs": []
    },
    {
      "cell_type": "code",
      "metadata": {
        "id": "tmjCMbBZkE7H"
      },
      "source": [
        "products = turicreate.SFrame('/content/drive/My Drive/Colab Notebooks/amazon_baby.sframe/')"
      ],
      "execution_count": null,
      "outputs": []
    },
    {
      "cell_type": "code",
      "metadata": {
        "id": "77-4Lcg0m6yi"
      },
      "source": [
        "products"
      ],
      "execution_count": null,
      "outputs": []
    },
    {
      "cell_type": "code",
      "metadata": {
        "id": "bn6pjXmakEkC"
      },
      "source": [
        "products.head()\n",
        "products['word_count'] = turicreate.text_analytics.count_words(products['review'])\n",
        "products.head()"
      ],
      "execution_count": null,
      "outputs": []
    },
    {
      "cell_type": "code",
      "metadata": {
        "id": "pmZKXnW_kEgW"
      },
      "source": [
        "products['name'].show()"
      ],
      "execution_count": null,
      "outputs": []
    },
    {
      "cell_type": "code",
      "metadata": {
        "id": "_bnNTaetkETE"
      },
      "source": [
        "giraffe_reviews = products[products['name']== 'Vulli Sophie the Giraffe Teether']\n",
        "len(giraffe_reviews)"
      ],
      "execution_count": null,
      "outputs": []
    },
    {
      "cell_type": "code",
      "metadata": {
        "id": "SX855TsWkEDn"
      },
      "source": [
        "turicreate.visualization.histogram(giraffe_reviews['rating'])"
      ],
      "execution_count": null,
      "outputs": []
    },
    {
      "cell_type": "markdown",
      "metadata": {
        "id": "ej-n9Wi-zuni"
      },
      "source": [
        "**build a sentiment classifier**"
      ]
    },
    {
      "cell_type": "code",
      "metadata": {
        "id": "SYiHXIWAkDw9"
      },
      "source": [
        "products['rating'].show()"
      ],
      "execution_count": null,
      "outputs": []
    },
    {
      "cell_type": "code",
      "metadata": {
        "id": "Z4ej-yDq0LW1"
      },
      "source": [
        "products = products[products['rating'] != 3]\n",
        "products['sentiment']= products['rating'] >= 4\n",
        "products.head()"
      ],
      "execution_count": null,
      "outputs": []
    },
    {
      "cell_type": "code",
      "metadata": {
        "id": "RV2TedtD0LCb"
      },
      "source": [
        "train_data,test_data = products.random_split(.8,seed=0)"
      ],
      "execution_count": null,
      "outputs": []
    },
    {
      "cell_type": "code",
      "metadata": {
        "id": "5yO3TlJf0K9-"
      },
      "source": [
        "sentiment_model= turicreate.logistic_classifier.create(train_data,\n",
        "                                                       target = 'sentiment',\n",
        "                                                       features = ['word_count'],\n",
        "                                                       validation_set= test_data)"
      ],
      "execution_count": null,
      "outputs": []
    },
    {
      "cell_type": "code",
      "metadata": {
        "id": "B9FzVhmuMoXO"
      },
      "source": [
        "sentiment_model.training_accuracy"
      ],
      "execution_count": null,
      "outputs": []
    },
    {
      "cell_type": "code",
      "metadata": {
        "id": "sROyTPdg0K5w"
      },
      "source": [
        "import matplotlib.pyplot as plt\n",
        "%matplotlib inline\n",
        "roc_eval = sentiment_model.evaluate(test_data, metric='roc_curve')\n"
      ],
      "execution_count": null,
      "outputs": []
    },
    {
      "cell_type": "code",
      "metadata": {
        "id": "BOaD_Ee9DswM"
      },
      "source": [
        "plt.scatter(roc_eval['roc_curve']['fpr'],\n",
        "            roc_eval['roc_curve']['tpr'],  \n",
        "            label='ROC Curve')\n",
        "plt.plot([0, 1], [0, 1], color='navy', linestyle='--')\n",
        "plt.xlim([0.0, 1.0])\n",
        "plt.ylim([0.0, 1.05])\n",
        "plt.xlabel('False Positive Rate')\n",
        "plt.ylabel('True Positive Rate')\n",
        "plt.show()"
      ],
      "execution_count": null,
      "outputs": []
    },
    {
      "cell_type": "code",
      "metadata": {
        "id": "Njnk_pvl0K0o"
      },
      "source": [
        "giraffe_reviews['predicted_sentiment'] = sentiment_model.predict(giraffe_reviews,output_type = 'probability')"
      ],
      "execution_count": null,
      "outputs": []
    },
    {
      "cell_type": "code",
      "metadata": {
        "id": "c6h4CAoy0Kxl"
      },
      "source": [
        "giraffe_reviews.head()"
      ],
      "execution_count": null,
      "outputs": []
    },
    {
      "cell_type": "code",
      "metadata": {
        "id": "Xelsm_4VCZD1"
      },
      "source": [
        "giraffe_reviews = giraffe_reviews.sort('predicted_sentiment',ascending=False)\n",
        "giraffe_reviews.head()"
      ],
      "execution_count": null,
      "outputs": []
    },
    {
      "cell_type": "code",
      "metadata": {
        "id": "2lUcQRVUlppe"
      },
      "source": [
        "giraffe_reviews[2]['review']"
      ],
      "execution_count": null,
      "outputs": []
    },
    {
      "cell_type": "code",
      "metadata": {
        "id": "QoHCJVC2lpmx"
      },
      "source": [
        "selected_words = ['awesome', 'great', 'fantastic', 'amazing', 'love', 'horrible', 'bad', 'terrible', 'awful', 'wow', 'hate']"
      ],
      "execution_count": null,
      "outputs": []
    },
    {
      "cell_type": "code",
      "metadata": {
        "id": "7N84wjlA30II"
      },
      "source": [
        "for each in selected_words:\n",
        "  products[each]= products['word_count'].apply(lambda counts:\\\n",
        "                                               counts.get(each,0))"
      ],
      "execution_count": null,
      "outputs": []
    },
    {
      "cell_type": "code",
      "metadata": {
        "id": "nSd6GzoA0R4T"
      },
      "source": [
        "for each in selected_words:\n",
        "  print (each,products[each].sum())"
      ],
      "execution_count": null,
      "outputs": []
    },
    {
      "cell_type": "code",
      "metadata": {
        "id": "lS_jN9f2GH2B"
      },
      "source": [
        "train_data,test_data = products.random_split(.8,seed=0)"
      ],
      "execution_count": null,
      "outputs": []
    },
    {
      "cell_type": "code",
      "metadata": {
        "id": "Ly25XE3xlpNU"
      },
      "source": [
        "selected_words_model= turicreate.logistic_classifier.create(train_data,\n",
        "                                                       target = 'sentiment',\n",
        "                                                       features = selected_words,\n",
        "                                                       validation_set= test_data)"
      ],
      "execution_count": null,
      "outputs": []
    },
    {
      "cell_type": "code",
      "metadata": {
        "id": "fIzwLAUvMUbk"
      },
      "source": [
        "selected_words_model.training_accuracy"
      ],
      "execution_count": null,
      "outputs": []
    },
    {
      "cell_type": "code",
      "metadata": {
        "id": "PTA8yMsnlpKM"
      },
      "source": [
        "selected_words_model.coefficients"
      ],
      "execution_count": null,
      "outputs": []
    },
    {
      "cell_type": "code",
      "metadata": {
        "id": "9z08BYqGlpF4"
      },
      "source": [
        "btdc_reviews = products[products['name']== 'Baby Trend Diaper Champ']"
      ],
      "execution_count": null,
      "outputs": []
    },
    {
      "cell_type": "code",
      "metadata": {
        "id": "hXidVNtELr0v"
      },
      "source": [
        "btdc_reviews['predicted_sentiment'] = sentiment_model.predict(btdc_reviews,output_type = 'probability')\n",
        "btdc_reviews= btdc_reviews.sort('predicted_sentiment',ascending=False)\n",
        "btdc_reviews"
      ],
      "execution_count": null,
      "outputs": []
    },
    {
      "cell_type": "code",
      "metadata": {
        "id": "kYgTVMvXMOgi"
      },
      "source": [
        "btdc_reviews['predicted_sentiment'] = selected_words_model.predict(btdc_reviews,output_type = 'probability')\n",
        "btdc_reviews= btdc_reviews.sort('predicted_sentiment',ascending=False)\n",
        "btdc_reviews"
      ],
      "execution_count": null,
      "outputs": []
    },
    {
      "cell_type": "code",
      "metadata": {
        "id": "YLnZjjWwNSlj"
      },
      "source": [
        "selected_words_model.predict(btdc_reviews[0:1], output_type='probability')"
      ],
      "execution_count": null,
      "outputs": []
    }
  ]
}